{
 "cells": [
  {
   "cell_type": "code",
   "execution_count": 1,
   "metadata": {},
   "outputs": [],
   "source": [
    "import numpy as np\n",
    "import scipy as sp\n",
    "import pandas as pd\n",
    "import matplotlib.pyplot as plt\n",
    "import seaborn as sns"
   ]
  },
  {
   "cell_type": "code",
   "execution_count": 17,
   "metadata": {},
   "outputs": [
    {
     "name": "stdout",
     "output_type": "stream",
     "text": [
      "ok\n"
     ]
    }
   ],
   "source": [
    "file_1='youtube_dataset.csv'\n",
    "print ('ok')"
   ]
  },
  {
   "cell_type": "code",
   "execution_count": 18,
   "metadata": {},
   "outputs": [],
   "source": [
    "#read CSV\n",
    "raw_df = pd.read_csv(file_1)"
   ]
  },
  {
   "cell_type": "code",
   "execution_count": 19,
   "metadata": {},
   "outputs": [
    {
     "data": {
      "text/plain": [
       "Entertainment    284\n",
       "Music            240\n",
       "Games            115\n",
       "Comedy            76\n",
       "People            72\n",
       "Howto             49\n",
       "Film              36\n",
       "Education         30\n",
       "Tech              19\n",
       "Sports            17\n",
       "News              17\n",
       "Autos              3\n",
       "Animals            2\n",
       "Nonprofit          1\n",
       "Travel             1\n",
       "Name: channeltype, dtype: int64"
      ]
     },
     "execution_count": 19,
     "metadata": {},
     "output_type": "execute_result"
    }
   ],
   "source": [
    "#rawdata\n",
    "raw_df\n",
    "#sort dataframe based on subscribers\n",
    "df1=raw_df.sort_values(by='subscribers', axis=0, ascending=False)\n",
    "df1\n",
    "#subset the dataframe for top 1000 \n",
    "df2=df1.iloc[0:1000, :]\n",
    "df2\n",
    "#channeltype\n",
    "df3=df2['channeltype'].value_counts()\n",
    "df3"
   ]
  },
  {
   "cell_type": "code",
   "execution_count": 21,
   "metadata": {},
   "outputs": [],
   "source": [
    "def channeltype(x):\n",
    "    df3=df2['channeltype'].value_counts()[x]\n",
    "    print(df3)"
   ]
  },
  {
   "cell_type": "code",
   "execution_count": 22,
   "metadata": {},
   "outputs": [
    {
     "name": "stdout",
     "output_type": "stream",
     "text": [
      "240\n"
     ]
    }
   ],
   "source": [
    "channeltype(\"Music\")"
   ]
  },
  {
   "cell_type": "code",
   "execution_count": null,
   "metadata": {},
   "outputs": [],
   "source": []
  }
 ],
 "metadata": {
  "kernelspec": {
   "display_name": "Python 3 (ipykernel)",
   "language": "python",
   "name": "python3"
  },
  "language_info": {
   "codemirror_mode": {
    "name": "ipython",
    "version": 3
   },
   "file_extension": ".py",
   "mimetype": "text/x-python",
   "name": "python",
   "nbconvert_exporter": "python",
   "pygments_lexer": "ipython3",
   "version": "3.9.7"
  }
 },
 "nbformat": 4,
 "nbformat_minor": 4
}
